{
 "metadata": {
  "language_info": {
   "codemirror_mode": {
    "name": "ipython",
    "version": 3
   },
   "file_extension": ".py",
   "mimetype": "text/x-python",
   "name": "python",
   "nbconvert_exporter": "python",
   "pygments_lexer": "ipython3",
   "version": 3
  },
  "orig_nbformat": 2
 },
 "nbformat": 4,
 "nbformat_minor": 2,
 "cells": [
  {
   "cell_type": "code",
   "execution_count": null,
   "metadata": {},
   "outputs": [],
   "source": [
    "# These all mean the same thing:\n",
    "#   Index into the memory array\n",
    "#   Address\n",
    "#   Location\n",
    "#   Pointer\n",
    "​\n",
    "memory = [\n",
    "\t1,  # PRINT_BEEJ  Address 0\n",
    "\t3,  # SAVE_REG R1,37\n",
    "\t1,\n",
    "\t37,\n",
    "\t4,  # PRINT_REG R1\n",
    "\t1,\n",
    "\t2,  # HALT\n",
    "]\n",
    "​\n",
    "registers = [0] * 8  # R0-R7\n",
    "​\n",
    "# \"Variables\" in hardware. Known as \"registers\".\n",
    "# There are a fixed number of registers\n",
    "# They have fixed names\n",
    "#  R0, R1, R2, ... , R6, R7\n",
    "​\n",
    "pc = 0  # Program Counter, address of the currently-executing instuction\n",
    "​\n",
    "running = True\n",
    "​\n",
    "while running:\n",
    "\tir = memory[pc]  # Instruction Register, copy of the currently-executing instruction\n",
    "​\n",
    "\tif ir == 1:  # PRINT_BEEJ\n",
    "\t\tprint(\"Beej!\")\n",
    "\t\tpc += 1\n",
    "​\n",
    "\telif ir == 2:\n",
    "\t\trunning = False\n",
    "​\n",
    "\telif ir == 3:  # SAVE_REG\n",
    "\t\treg_num = memory[pc + 1]\n",
    "\t\tvalue = memory[pc + 2]\n",
    "\t\tregisters[reg_num] = value\n",
    "\t\tpc += 3\n",
    "​\n",
    "\telif ir == 4:  # PRINT_REG\n",
    "\t\treg_num = memory[pc + 1]\n",
    "\t\tprint(registers[reg_num])\n",
    "\t\tpc += 2\n",
    "​\n",
    "\telse:\n",
    "\t\tprint(f\"Unknown instruction {b}\")"
   ]
  }
 ]
}